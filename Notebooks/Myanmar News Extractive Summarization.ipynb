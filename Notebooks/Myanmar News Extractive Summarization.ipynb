{
  "nbformat": 4,
  "nbformat_minor": 0,
  "metadata": {
    "colab": {
      "provenance": []
    },
    "kernelspec": {
      "name": "python3",
      "display_name": "Python 3"
    },
    "language_info": {
      "name": "python"
    }
  },
  "cells": [
    {
      "cell_type": "code",
      "source": [
        "pip install -r requirements.txt"
      ],
      "metadata": {
        "id": "-aDDLehjlmj6",
        "colab": {
          "base_uri": "https://localhost:8080/"
        },
        "outputId": "46e91c7b-a2e9-4d79-c507-c6ca62a7d0db"
      },
      "execution_count": null,
      "outputs": [
        {
          "output_type": "stream",
          "name": "stdout",
          "text": [
            "Collecting streamlit (from -r requirements.txt (line 1))\n",
            "  Downloading streamlit-1.31.1-py2.py3-none-any.whl (8.4 MB)\n",
            "\u001b[2K     \u001b[90m━━━━━━━━━━━━━━━━━━━━━━━━━━━━━━━━━━━━━━━━\u001b[0m \u001b[32m8.4/8.4 MB\u001b[0m \u001b[31m20.7 MB/s\u001b[0m eta \u001b[36m0:00:00\u001b[0m\n",
            "\u001b[?25hRequirement already satisfied: matplotlib in /usr/local/lib/python3.10/dist-packages (from -r requirements.txt (line 2)) (3.7.1)\n",
            "Requirement already satisfied: numpy in /usr/local/lib/python3.10/dist-packages (from -r requirements.txt (line 3)) (1.25.2)\n",
            "Requirement already satisfied: scikit-learn in /usr/local/lib/python3.10/dist-packages (from -r requirements.txt (line 4)) (1.2.2)\n",
            "Requirement already satisfied: pandas in /usr/local/lib/python3.10/dist-packages (from -r requirements.txt (line 5)) (1.5.3)\n",
            "Collecting pyidaungsu (from -r requirements.txt (line 6))\n",
            "  Downloading pyidaungsu-0.1.4-py3-none-any.whl (5.5 MB)\n",
            "\u001b[2K     \u001b[90m━━━━━━━━━━━━━━━━━━━━━━━━━━━━━━━━━━━━━━━━\u001b[0m \u001b[32m5.5/5.5 MB\u001b[0m \u001b[31m7.9 MB/s\u001b[0m eta \u001b[36m0:00:00\u001b[0m\n",
            "\u001b[?25hRequirement already satisfied: altair<6,>=4.0 in /usr/local/lib/python3.10/dist-packages (from streamlit->-r requirements.txt (line 1)) (4.2.2)\n",
            "Requirement already satisfied: blinker<2,>=1.0.0 in /usr/lib/python3/dist-packages (from streamlit->-r requirements.txt (line 1)) (1.4)\n",
            "Requirement already satisfied: cachetools<6,>=4.0 in /usr/local/lib/python3.10/dist-packages (from streamlit->-r requirements.txt (line 1)) (5.3.2)\n",
            "Requirement already satisfied: click<9,>=7.0 in /usr/local/lib/python3.10/dist-packages (from streamlit->-r requirements.txt (line 1)) (8.1.7)\n",
            "Requirement already satisfied: importlib-metadata<8,>=1.4 in /usr/local/lib/python3.10/dist-packages (from streamlit->-r requirements.txt (line 1)) (7.0.1)\n",
            "Requirement already satisfied: packaging<24,>=16.8 in /usr/local/lib/python3.10/dist-packages (from streamlit->-r requirements.txt (line 1)) (23.2)\n",
            "Requirement already satisfied: pillow<11,>=7.1.0 in /usr/local/lib/python3.10/dist-packages (from streamlit->-r requirements.txt (line 1)) (9.4.0)\n",
            "Requirement already satisfied: protobuf<5,>=3.20 in /usr/local/lib/python3.10/dist-packages (from streamlit->-r requirements.txt (line 1)) (3.20.3)\n",
            "Requirement already satisfied: pyarrow>=7.0 in /usr/local/lib/python3.10/dist-packages (from streamlit->-r requirements.txt (line 1)) (14.0.2)\n",
            "Requirement already satisfied: python-dateutil<3,>=2.7.3 in /usr/local/lib/python3.10/dist-packages (from streamlit->-r requirements.txt (line 1)) (2.8.2)\n",
            "Requirement already satisfied: requests<3,>=2.27 in /usr/local/lib/python3.10/dist-packages (from streamlit->-r requirements.txt (line 1)) (2.31.0)\n",
            "Requirement already satisfied: rich<14,>=10.14.0 in /usr/local/lib/python3.10/dist-packages (from streamlit->-r requirements.txt (line 1)) (13.7.0)\n",
            "Requirement already satisfied: tenacity<9,>=8.1.0 in /usr/local/lib/python3.10/dist-packages (from streamlit->-r requirements.txt (line 1)) (8.2.3)\n",
            "Requirement already satisfied: toml<2,>=0.10.1 in /usr/local/lib/python3.10/dist-packages (from streamlit->-r requirements.txt (line 1)) (0.10.2)\n",
            "Requirement already satisfied: typing-extensions<5,>=4.3.0 in /usr/local/lib/python3.10/dist-packages (from streamlit->-r requirements.txt (line 1)) (4.9.0)\n",
            "Requirement already satisfied: tzlocal<6,>=1.1 in /usr/local/lib/python3.10/dist-packages (from streamlit->-r requirements.txt (line 1)) (5.2)\n",
            "Collecting validators<1,>=0.2 (from streamlit->-r requirements.txt (line 1))\n",
            "  Downloading validators-0.22.0-py3-none-any.whl (26 kB)\n",
            "Collecting gitpython!=3.1.19,<4,>=3.0.7 (from streamlit->-r requirements.txt (line 1))\n",
            "  Downloading GitPython-3.1.42-py3-none-any.whl (195 kB)\n",
            "\u001b[2K     \u001b[90m━━━━━━━━━━━━━━━━━━━━━━━━━━━━━━━━━━━━━━━━\u001b[0m \u001b[32m195.4/195.4 kB\u001b[0m \u001b[31m22.1 MB/s\u001b[0m eta \u001b[36m0:00:00\u001b[0m\n",
            "\u001b[?25hCollecting pydeck<1,>=0.8.0b4 (from streamlit->-r requirements.txt (line 1))\n",
            "  Downloading pydeck-0.8.1b0-py2.py3-none-any.whl (4.8 MB)\n",
            "\u001b[2K     \u001b[90m━━━━━━━━━━━━━━━━━━━━━━━━━━━━━━━━━━━━━━━━\u001b[0m \u001b[32m4.8/4.8 MB\u001b[0m \u001b[31m42.8 MB/s\u001b[0m eta \u001b[36m0:00:00\u001b[0m\n",
            "\u001b[?25hRequirement already satisfied: tornado<7,>=6.0.3 in /usr/local/lib/python3.10/dist-packages (from streamlit->-r requirements.txt (line 1)) (6.3.2)\n",
            "Collecting watchdog>=2.1.5 (from streamlit->-r requirements.txt (line 1))\n",
            "  Downloading watchdog-4.0.0-py3-none-manylinux2014_x86_64.whl (82 kB)\n",
            "\u001b[2K     \u001b[90m━━━━━━━━━━━━━━━━━━━━━━━━━━━━━━━━━━━━━━━━\u001b[0m \u001b[32m83.0/83.0 kB\u001b[0m \u001b[31m9.8 MB/s\u001b[0m eta \u001b[36m0:00:00\u001b[0m\n",
            "\u001b[?25hRequirement already satisfied: contourpy>=1.0.1 in /usr/local/lib/python3.10/dist-packages (from matplotlib->-r requirements.txt (line 2)) (1.2.0)\n",
            "Requirement already satisfied: cycler>=0.10 in /usr/local/lib/python3.10/dist-packages (from matplotlib->-r requirements.txt (line 2)) (0.12.1)\n",
            "Requirement already satisfied: fonttools>=4.22.0 in /usr/local/lib/python3.10/dist-packages (from matplotlib->-r requirements.txt (line 2)) (4.49.0)\n",
            "Requirement already satisfied: kiwisolver>=1.0.1 in /usr/local/lib/python3.10/dist-packages (from matplotlib->-r requirements.txt (line 2)) (1.4.5)\n",
            "Requirement already satisfied: pyparsing>=2.3.1 in /usr/local/lib/python3.10/dist-packages (from matplotlib->-r requirements.txt (line 2)) (3.1.1)\n",
            "Requirement already satisfied: scipy>=1.3.2 in /usr/local/lib/python3.10/dist-packages (from scikit-learn->-r requirements.txt (line 4)) (1.11.4)\n",
            "Requirement already satisfied: joblib>=1.1.1 in /usr/local/lib/python3.10/dist-packages (from scikit-learn->-r requirements.txt (line 4)) (1.3.2)\n",
            "Requirement already satisfied: threadpoolctl>=2.0.0 in /usr/local/lib/python3.10/dist-packages (from scikit-learn->-r requirements.txt (line 4)) (3.3.0)\n",
            "Requirement already satisfied: pytz>=2020.1 in /usr/local/lib/python3.10/dist-packages (from pandas->-r requirements.txt (line 5)) (2023.4)\n",
            "Collecting python-crfsuite (from pyidaungsu->-r requirements.txt (line 6))\n",
            "  Downloading python_crfsuite-0.9.10-cp310-cp310-manylinux_2_17_x86_64.manylinux2014_x86_64.whl (1.1 MB)\n",
            "\u001b[2K     \u001b[90m━━━━━━━━━━━━━━━━━━━━━━━━━━━━━━━━━━━━━━━━\u001b[0m \u001b[32m1.1/1.1 MB\u001b[0m \u001b[31m39.9 MB/s\u001b[0m eta \u001b[36m0:00:00\u001b[0m\n",
            "\u001b[?25hCollecting emoji (from pyidaungsu->-r requirements.txt (line 6))\n",
            "  Downloading emoji-2.10.1-py2.py3-none-any.whl (421 kB)\n",
            "\u001b[2K     \u001b[90m━━━━━━━━━━━━━━━━━━━━━━━━━━━━━━━━━━━━━━━━\u001b[0m \u001b[32m421.5/421.5 kB\u001b[0m \u001b[31m36.5 MB/s\u001b[0m eta \u001b[36m0:00:00\u001b[0m\n",
            "\u001b[?25hCollecting pybind11 (from pyidaungsu->-r requirements.txt (line 6))\n",
            "  Downloading pybind11-2.11.1-py3-none-any.whl (227 kB)\n",
            "\u001b[2K     \u001b[90m━━━━━━━━━━━━━━━━━━━━━━━━━━━━━━━━━━━━━━━━\u001b[0m \u001b[32m227.7/227.7 kB\u001b[0m \u001b[31m23.0 MB/s\u001b[0m eta \u001b[36m0:00:00\u001b[0m\n",
            "\u001b[?25hCollecting fasttext (from pyidaungsu->-r requirements.txt (line 6))\n",
            "  Downloading fasttext-0.9.2.tar.gz (68 kB)\n",
            "\u001b[2K     \u001b[90m━━━━━━━━━━━━━━━━━━━━━━━━━━━━━━━━━━━━━━━━\u001b[0m \u001b[32m68.8/68.8 kB\u001b[0m \u001b[31m8.9 MB/s\u001b[0m eta \u001b[36m0:00:00\u001b[0m\n",
            "\u001b[?25h  Preparing metadata (setup.py) ... \u001b[?25l\u001b[?25hdone\n",
            "Requirement already satisfied: entrypoints in /usr/local/lib/python3.10/dist-packages (from altair<6,>=4.0->streamlit->-r requirements.txt (line 1)) (0.4)\n",
            "Requirement already satisfied: jinja2 in /usr/local/lib/python3.10/dist-packages (from altair<6,>=4.0->streamlit->-r requirements.txt (line 1)) (3.1.3)\n",
            "Requirement already satisfied: jsonschema>=3.0 in /usr/local/lib/python3.10/dist-packages (from altair<6,>=4.0->streamlit->-r requirements.txt (line 1)) (4.19.2)\n",
            "Requirement already satisfied: toolz in /usr/local/lib/python3.10/dist-packages (from altair<6,>=4.0->streamlit->-r requirements.txt (line 1)) (0.12.1)\n",
            "Collecting gitdb<5,>=4.0.1 (from gitpython!=3.1.19,<4,>=3.0.7->streamlit->-r requirements.txt (line 1))\n",
            "  Downloading gitdb-4.0.11-py3-none-any.whl (62 kB)\n",
            "\u001b[2K     \u001b[90m━━━━━━━━━━━━━━━━━━━━━━━━━━━━━━━━━━━━━━━━\u001b[0m \u001b[32m62.7/62.7 kB\u001b[0m \u001b[31m8.7 MB/s\u001b[0m eta \u001b[36m0:00:00\u001b[0m\n",
            "\u001b[?25hRequirement already satisfied: zipp>=0.5 in /usr/local/lib/python3.10/dist-packages (from importlib-metadata<8,>=1.4->streamlit->-r requirements.txt (line 1)) (3.17.0)\n",
            "Requirement already satisfied: six>=1.5 in /usr/local/lib/python3.10/dist-packages (from python-dateutil<3,>=2.7.3->streamlit->-r requirements.txt (line 1)) (1.16.0)\n",
            "Requirement already satisfied: charset-normalizer<4,>=2 in /usr/local/lib/python3.10/dist-packages (from requests<3,>=2.27->streamlit->-r requirements.txt (line 1)) (3.3.2)\n",
            "Requirement already satisfied: idna<4,>=2.5 in /usr/local/lib/python3.10/dist-packages (from requests<3,>=2.27->streamlit->-r requirements.txt (line 1)) (3.6)\n",
            "Requirement already satisfied: urllib3<3,>=1.21.1 in /usr/local/lib/python3.10/dist-packages (from requests<3,>=2.27->streamlit->-r requirements.txt (line 1)) (2.0.7)\n",
            "Requirement already satisfied: certifi>=2017.4.17 in /usr/local/lib/python3.10/dist-packages (from requests<3,>=2.27->streamlit->-r requirements.txt (line 1)) (2024.2.2)\n",
            "Requirement already satisfied: markdown-it-py>=2.2.0 in /usr/local/lib/python3.10/dist-packages (from rich<14,>=10.14.0->streamlit->-r requirements.txt (line 1)) (3.0.0)\n",
            "Requirement already satisfied: pygments<3.0.0,>=2.13.0 in /usr/local/lib/python3.10/dist-packages (from rich<14,>=10.14.0->streamlit->-r requirements.txt (line 1)) (2.16.1)\n",
            "Requirement already satisfied: setuptools>=0.7.0 in /usr/local/lib/python3.10/dist-packages (from fasttext->pyidaungsu->-r requirements.txt (line 6)) (67.7.2)\n",
            "Collecting smmap<6,>=3.0.1 (from gitdb<5,>=4.0.1->gitpython!=3.1.19,<4,>=3.0.7->streamlit->-r requirements.txt (line 1))\n",
            "  Downloading smmap-5.0.1-py3-none-any.whl (24 kB)\n",
            "Requirement already satisfied: MarkupSafe>=2.0 in /usr/local/lib/python3.10/dist-packages (from jinja2->altair<6,>=4.0->streamlit->-r requirements.txt (line 1)) (2.1.5)\n",
            "Requirement already satisfied: attrs>=22.2.0 in /usr/local/lib/python3.10/dist-packages (from jsonschema>=3.0->altair<6,>=4.0->streamlit->-r requirements.txt (line 1)) (23.2.0)\n",
            "Requirement already satisfied: jsonschema-specifications>=2023.03.6 in /usr/local/lib/python3.10/dist-packages (from jsonschema>=3.0->altair<6,>=4.0->streamlit->-r requirements.txt (line 1)) (2023.12.1)\n",
            "Requirement already satisfied: referencing>=0.28.4 in /usr/local/lib/python3.10/dist-packages (from jsonschema>=3.0->altair<6,>=4.0->streamlit->-r requirements.txt (line 1)) (0.33.0)\n",
            "Requirement already satisfied: rpds-py>=0.7.1 in /usr/local/lib/python3.10/dist-packages (from jsonschema>=3.0->altair<6,>=4.0->streamlit->-r requirements.txt (line 1)) (0.18.0)\n",
            "Requirement already satisfied: mdurl~=0.1 in /usr/local/lib/python3.10/dist-packages (from markdown-it-py>=2.2.0->rich<14,>=10.14.0->streamlit->-r requirements.txt (line 1)) (0.1.2)\n",
            "Building wheels for collected packages: fasttext\n",
            "  Building wheel for fasttext (setup.py) ... \u001b[?25l\u001b[?25hdone\n",
            "  Created wheel for fasttext: filename=fasttext-0.9.2-cp310-cp310-linux_x86_64.whl size=4199774 sha256=d48e3ee1d4b181001eb22cbb6f69034bdb0e9486d6848e451e17519552c4b2c8\n",
            "  Stored in directory: /root/.cache/pip/wheels/a5/13/75/f811c84a8ab36eedbaef977a6a58a98990e8e0f1967f98f394\n",
            "Successfully built fasttext\n",
            "Installing collected packages: python-crfsuite, watchdog, validators, smmap, pybind11, emoji, pydeck, gitdb, fasttext, pyidaungsu, gitpython, streamlit\n",
            "Successfully installed emoji-2.10.1 fasttext-0.9.2 gitdb-4.0.11 gitpython-3.1.42 pybind11-2.11.1 pydeck-0.8.1b0 pyidaungsu-0.1.4 python-crfsuite-0.9.10 smmap-5.0.1 streamlit-1.31.1 validators-0.22.0 watchdog-4.0.0\n"
          ]
        }
      ]
    },
    {
      "cell_type": "code",
      "source": [
        "from nltk.cluster.util import cosine_distance\n",
        "import re\n",
        "import numpy as np\n",
        "import pyidaungsu as pds\n",
        "import pandas as pd"
      ],
      "metadata": {
        "id": "pNYFIcsVR9vJ"
      },
      "execution_count": null,
      "outputs": []
    },
    {
      "cell_type": "markdown",
      "source": [],
      "metadata": {
        "id": "0hYRwT2lYnGc"
      }
    },
    {
      "cell_type": "markdown",
      "source": [
        "### Stop Words Function"
      ],
      "metadata": {
        "id": "P1xSF4fZYndc"
      }
    },
    {
      "cell_type": "code",
      "source": [
        "stopwordslist = []\n",
        "slist = []\n",
        "with open(\"stopwords.txt\", encoding = 'utf8') as stopwordsfile:\n",
        "    stopwords = stopwordsfile.readlines()\n",
        "    slist.extend(stopwords)\n",
        "    for w in range(len(slist)):\n",
        "        temp = slist[w]\n",
        "        stopwordslist.append(temp.rstrip())"
      ],
      "metadata": {
        "id": "sVWguYENNLRU"
      },
      "execution_count": null,
      "outputs": []
    },
    {
      "cell_type": "code",
      "source": [
        "SENTENCE_SEPARATOR = [\".\", \"?\", \"!\", \"။\", \"…\", \"\\n\"]\n",
        "\n",
        "def sentence_tokenize(text):\n",
        "  sentences = re.split(\"(?<=[\" + \"\".join(SENTENCE_SEPARATOR) + \"])\\s*\", text)\n",
        "  if sentences[-1]:\n",
        "    return sentences\n",
        "  return sentences[:-1]\n",
        "\n",
        "# Removed everything from the stopword list.\n",
        "def stop_word(sentence):\n",
        "  new_sentence = []\n",
        "  for word in sentence:\n",
        "    if word not in stopwordslist:\n",
        "      new_sentence.append(word)\n",
        "  return(new_sentence)\n",
        "\n",
        "def read_text(text):\n",
        "  sentences = sentence_tokenize(text)\n",
        "  return sentences\n",
        "\n",
        "def sentence_similarity(sent1, sent2):\n",
        "\n",
        "  sent1 = [w.lower() for w in pds.tokenize(sent1, form='word')]\n",
        "  sent2 = [w.lower() for w in pds.tokenize(sent2, form='word')]\n",
        "  sent1 = stop_word(sent1)\n",
        "  sent2 = stop_word(sent2)\n",
        "\n",
        "  all_words = list(set(sent1 + sent2))\n",
        "\n",
        "  vector1 = [0] * len(all_words)\n",
        "  vector2 = [0] * len(all_words)\n",
        "\n",
        "  for w in sent1:\n",
        "    vector1[all_words.index(w)] += 1\n",
        "\n",
        "  for w in sent2:\n",
        "    vector2[all_words.index(w)] += 1\n",
        "\n",
        "  if np.isnan(1 - cosine_distance(vector1, vector2)):\n",
        "    return 0\n",
        "  return 1 - cosine_distance(vector1, vector2)\n",
        "\n",
        "def build_similarity_matrix(sentences):\n",
        "\n",
        "  similarity_matrix = np.zeros((len(sentences),len(sentences)))\n",
        "\n",
        "  for idx1 in range(len(sentences)):\n",
        "    for idx2 in range(len(sentences)):\n",
        "      if idx1!=idx2:\n",
        "        similarity_matrix[idx1][idx2] = sentence_similarity(sentences[idx1],sentences[idx2])\n",
        "    return similarity_matrix"
      ],
      "metadata": {
        "id": "LeCFKz9jFN5c"
      },
      "execution_count": null,
      "outputs": []
    },
    {
      "cell_type": "code",
      "source": [
        "#@title Generate Text Summary\n",
        "import networkx as nx\n",
        "\n",
        "def generate_summary(text,top_n):\n",
        "\n",
        "  summarize_text = []\n",
        "\n",
        "  sentences = read_text(text)\n",
        "  sentence_similarity_matrix = build_similarity_matrix(sentences)\n",
        "  sentence_similarity_graph = nx.from_numpy_array(sentence_similarity_matrix)\n",
        "  scores = nx.pagerank(sentence_similarity_graph)\n",
        "  ranked_sentences = sorted(((scores[i],s) for i,s in enumerate(sentences)),reverse=True)\n",
        "  if not ranked_sentences:\n",
        "        return \"\"  # Return empty summary and length 0\n",
        "  else:\n",
        "    for i in range(top_n):\n",
        "      summarize_text.append(ranked_sentences[i][1].replace(\"\\n\", \"\"))\n",
        "  return \" \".join(summarize_text)\n",
        "\n"
      ],
      "metadata": {
        "id": "ZA8-i6HsQbXX"
      },
      "execution_count": null,
      "outputs": []
    },
    {
      "cell_type": "markdown",
      "source": [
        "### Example 1"
      ],
      "metadata": {
        "id": "gIq_NResY3ND"
      }
    },
    {
      "cell_type": "code",
      "source": [
        "text = \"\"\"အေစီမီလန်အသင်း တိုက်စစ်ကစားသမား ခရစ္စတီယန်ပူလီဆစ်သည် ၂၀၂၃ ခုနှစ်အတွက် အမေရိကန်အကောင်းဆုံး ဘောလုံးသမားဆု ဆွတ်ခူးရရှိပြီး လေးကြိမ်ရရှိထားသူ ဒိုနိုဗန်၏စံချိန်ကို အမီလိုက်နိုင်ခဲ့ကြောင်း သိရသည်။ အသက် ၂၅ နှစ်ရှိပြီဖြစ်သူ အမေရိကန်လက်ရွေးစင် အသင်းခေါင်းဆောင် ပူလီဆစ်သည် ပြီးခဲ့သည့်နှစ်အတွင်း လက်ရွေးစင်အသင်းအတွက် ခုနစ်ပွဲကစား၊ ခြောက်ဂိုးသွင်းယူပေးပြီး ၂၀၂၂-၂၀၂၃ ကွန်ကာကပ်ဖ် Nations League ပြိုင်ပွဲ ၌ ဗိုလ်စွဲခဲ့သလို ယင်းပြိုင်ပွဲ၏ အကောင်းဆုံးကစားသမားဆုကို ဆွတ်ခူးရရှိခဲ့သည်။  ၎င်းအနေဖြင့် ချယ်လ်ဆီးအသင်း၌ ရုန်းကန်ခဲ့ရသော်လည်း ပြီးခဲ့သည့်နှစ် နွေရာသီတွင် အေစီမီလန်အသင်းသို့ ပြောင်းရွှေ့ခဲ့ပြီးနောက် ပုံမှန်ခြေစွမ်းပြန်လည်ရရှိလာပြီး ပြိုင်ပွဲစုံ ၂၆ ပွဲကစား၊ ခုနစ်ဂိုးသွင်းယူကာ ဂိုးဖန်တီးမှု ငါးကြိမ် ပြုလုပ်ပေးထားသည်။ ထို့ကြောင့် ပူလီဆစ်အနေဖြင့် မဲပေးမှု၏ ၅၃ ရာခိုင်နှုန်း အထိရရှိခဲ့ပြီး အေစီမီလန်အသင်းဖော်ကွင်းလယ်လူ မူဆာ (၂၁ ဒသမ ၅ ရာခိုင်နှုန်း)၊ PSV အသင်းတိုက်စစ်မှူး ရီကာဒို ပီပီ (၁၂ ဒသမ ၉ ရာခိုင်နှုန်း) တို့ထက် မဲအရေအတွက်အသာဖြင့် ဆွတ်ခူးရယူနိုင်ခဲ့ခြင်းဖြစ်သည်။  ပူလီဆစ်သည် ယင်းဆုကို စတုတ္ထအကြိမ် (၂၀၁၇၊ ၂၀၁၉၊ ၂၀၂၁၊ ၂၀၂၃) ရရှိခြင်းဖြစ်ပြီး ဂန္ထဝင်ကစားသမား လန်ဒန်ဒိုနိုဗန်၏ အကြိမ်အများဆုံးရရှိသည့်စံချိန်နှင့် တူညီသွားပြီဖြစ်သည်။\"\"\"\n",
        "summary= generate_summary(text, 2)\n",
        "print(\"Summary: \", summary)"
      ],
      "metadata": {
        "id": "Qi7t1gRqQyM8",
        "colab": {
          "base_uri": "https://localhost:8080/"
        },
        "outputId": "57459e41-492f-4fb6-acc2-ba47164bf789"
      },
      "execution_count": null,
      "outputs": [
        {
          "output_type": "stream",
          "name": "stdout",
          "text": [
            "Summary:  အေစီမီလန်အသင်း တိုက်စစ်ကစားသမား ခရစ္စတီယန်ပူလီဆစ်သည် ၂၀၂၃ ခုနှစ်အတွက် အမေရိကန်အကောင်းဆုံး ဘောလုံးသမားဆု ဆွတ်ခူးရရှိပြီး လေးကြိမ်ရရှိထားသူ ဒိုနိုဗန်၏စံချိန်ကို အမီလိုက်နိုင်ခဲ့ကြောင်း သိရသည်။ အသက် ၂၅ နှစ်ရှိပြီဖြစ်သူ အမေရိကန်လက်ရွေးစင် အသင်းခေါင်းဆောင် ပူလီဆစ်သည် ပြီးခဲ့သည့်နှစ်အတွင်း လက်ရွေးစင်အသင်းအတွက် ခုနစ်ပွဲကစား၊ ခြောက်ဂိုးသွင်းယူပေးပြီး ၂၀၂၂-၂၀၂၃ ကွန်ကာကပ်ဖ် Nations League ပြိုင်ပွဲ ၌ ဗိုလ်စွဲခဲ့သလို ယင်းပြိုင်ပွဲ၏ အကောင်းဆုံးကစားသမားဆုကို ဆွတ်ခူးရရှိခဲ့သည်။\n"
          ]
        }
      ]
    },
    {
      "cell_type": "markdown",
      "source": [
        "### Example 2"
      ],
      "metadata": {
        "id": "lKIfh65uY6r8"
      }
    },
    {
      "cell_type": "code",
      "source": [
        "text = \"\"\"တီကျစ်ကျောက် မီးသွေးဓာတ်အားပေး စက်ရုံကို သက်တမ်းတိုး ထပ်မံလည်ပတ် ရန် ရှမ်းပြည်နယ်အစိုးရနှင့် ၀န် ကြီးဌာနက ကန့်ကွက်ရန်မရှိ ကြောင်း လျှပ်စစ်နှင့် စွမ်းအင်၀န် ကြီးဌာန ပြောရေးဆိုခွင့်နှင့် သတင်းပြန်ကြားရေး အဖွဲ့က ဇူလိုင် ၁၂ ရက်တွင် သတင်းထုတ်ပြန်သည်။ ရှမ်းပြည်နယ်ရှိ ကျောက်မီး သွေးသုံး ဓာတ်အားပေးစက်ရုံကို ၂၀၁၇ မေလ ၂၆ ရက်တွင် စမ်း သပ်လည်ပတ်ရာ တစ်နှစ်ပြည့် ၍ ထပ်မံသက်တမ်းတိုးရန် စီစဉ် နေပြီး လက်ရှိ၌ ပြည်ထောင်စု အစိုးရအဖွဲ့နှင့် သမ္မတရုံးသို့ တင်ပြထားကြောင်း လျှပ်စစ်ဓာတ် အားထုတ်လုပ်ရေးလုပ်ငန်း ဦးဆောင်ညွှန်ကြားရေးမှူး ဦးခင်မောင်၀င်းက ပြောသည်။ ‘‘အရင်တုန်းက ပြာတွေ ထွက်တယ်။ မီးခိုးနံ့တွေ ထွက် တယ်။ ဟိုတုန်းကစက်တွေ ဟောင်းစုတ်နေပါပြီ။ အခုစက်တွေပြင် ပြီးသွားပြီ။ ကမ္ဘာ့ဘဏ်သတ်မှတ် ချက်နှုန်း ပတ်၀န်းကျင်ထိန်းသိမ်း ရေး ၀န်ကြီးဌာနက သတ်မှတ်ထားတဲ့ ဂိုက်လိုင်းအတိုင်း ဒီအတွင်းထဲ မှာ ပြင်ပြီးသွားပြီ’’ဟု ၎င်းကဆက် လက်ပြောသည်။ အဆိုပါ စက်ရုံကို တရုတ် ကုမ္ပဏီက စနစ်တကျပြုပြင်ကာ အမျိုးသား ပတ်၀န်းကျင်ဆိုင်ရာ အရည်အသွေး (ထုတ်လွှတ်မှု) လမ်းညွှန်ချက်များနှင့် ကမ္ဘာ့ဘဏ်၏ သတ်မှတ်ချက် စံချိန်စံညွှန်းများအတိုင်း ဆောင်ရွက်ပြီး ဖြစ်ကြောင်း ဦးခင်မောင်၀င်းက ပြောသည်။ အဆိုပါ တီကျစ်ကျောက်မီး သွေးစက်ရုံကို ၂၀၁၅ မေလက တရုတ် Wuxi Hua Guang လျှပ် စစ်စွမ်းအင် ကုမ္ပဏီက တင်ဒါ အောင်မြင်ထားပြီး ၂၀၁၇ မေလ ၁၆ ရက်တွင် ဒေသခံများ၏ သဘောတူညီမှုဖြင့် တစ်နှစ်စမ်း သပ်လည်ပတ်ခွင့်ရခဲ့သည်။ ထိုစက်ရုံတွင် လျှပ်စစ်ဓာတ် အား စက်တပ်ဆင်အား မဂ္ဂါ၀ပ် ၁၂၀ ရှိပြီး လက်ရှိ၌ မဂ္ဂါ၀ပ် ၈၀ ထုတ်လုပ်နေသည်။ တရုတ် ကုမ္ပဏီ၏ လူမှုအကျိုးပြု အစီအ စဉ်ဖြင့် စက်ရုံပတ်လည်ရှိ ကျေး ရွာရှစ်ရွာတွင် လျှပ်စစ်မီးလင်းရေး ဆောင်ရွက်ခဲ့သည်ဟု ၀န်ကြီးဌာနက ဆိုထားသည်။ ထို့ကြောင့် ကျေးရွာများရှိ ဒေသခံအများစုက စက်ရုံကို ကန့်ကွက်မှုမရှိကြောင်း ဦးခင်မောင် ၀င်းက ဆိုသည်။\"\"\"\n",
        "summary= generate_summary(text, 3)\n",
        "print(\"Summary: \", summary)"
      ],
      "metadata": {
        "colab": {
          "base_uri": "https://localhost:8080/"
        },
        "id": "i53-MmD3LfyG",
        "outputId": "0136cd12-8bb4-4067-be71-685ae3420497"
      },
      "execution_count": null,
      "outputs": [
        {
          "output_type": "stream",
          "name": "stdout",
          "text": [
            "Summary:  တီကျစ်ကျောက် မီးသွေးဓာတ်အားပေး စက်ရုံကို သက်တမ်းတိုး ထပ်မံလည်ပတ် ရန် ရှမ်းပြည်နယ်အစိုးရနှင့် ၀န် ကြီးဌာနက ကန့်ကွက်ရန်မရှိ ကြောင်း လျှပ်စစ်နှင့် စွမ်းအင်၀န် ကြီးဌာန ပြောရေးဆိုခွင့်နှင့် သတင်းပြန်ကြားရေး အဖွဲ့က ဇူလိုင် ၁၂ ရက်တွင် သတင်းထုတ်ပြန်သည်။ ရှမ်းပြည်နယ်ရှိ ကျောက်မီး သွေးသုံး ဓာတ်အားပေးစက်ရုံကို ၂၀၁၇ မေလ ၂၆ ရက်တွင် စမ်း သပ်လည်ပတ်ရာ တစ်နှစ်ပြည့် ၍ ထပ်မံသက်တမ်းတိုးရန် စီစဉ် နေပြီး လက်ရှိ၌ ပြည်ထောင်စု အစိုးရအဖွဲ့နှင့် သမ္မတရုံးသို့ တင်ပြထားကြောင်း လျှပ်စစ်ဓာတ် အားထုတ်လုပ်ရေးလုပ်ငန်း ဦးဆောင်ညွှန်ကြားရေးမှူး ဦးခင်မောင်၀င်းက ပြောသည်။ ထို့ကြောင့် ကျေးရွာများရှိ ဒေသခံအများစုက စက်ရုံကို ကန့်ကွက်မှုမရှိကြောင်း ဦးခင်မောင် ၀င်းက ဆိုသည်။\n"
          ]
        }
      ]
    },
    {
      "cell_type": "markdown",
      "source": [
        "### Example 3"
      ],
      "metadata": {
        "id": "PZWD3eccY8-j"
      }
    },
    {
      "cell_type": "code",
      "source": [
        "text = \"\"\"IS ပိုင် ရေနံတွင်းတွေကို ဗြိတိသျှ တိုက်လေယာဉ် ၄ စီးက တိုက်ခိုက်ခဲ့ ဗုံးကြဲ တိုက်ခိုက်ဖို့ အတွက် ယူကေ အမတ်တွေ အတည်ပြုပြီး မကြာမီမှာပဲ ဆိုက်ပရပ်စ်မှာ ရှိတဲ့ Akrotiri အက်ရော့တီရီ လေတပ်စခန်းက တိုနေးဒိုး တိုက်လေယာဉ် ၄ စီး တိုက်ခိုက်မှုမှာ ပါဝင် ခဲ့ပါတယ်။ ဆီးရီးယား အရှေ့ပိုင်းက IS တွေ ထိန်းချုပ်ထားတဲ့ ရေနံတွင်းတွေကို တိုက်ခိုက် ထိမှန်ခဲ့တယ်လို့ ကာကွယ်ရေး ဝန်ကြီးက ပြောပါတယ်။ ဝန်ကြီးချုပ် ဒေးဗစ် ကင်မရွန်း ကတော့ IS အပေါ် တိုက်ခိုက်မှုတွေဟာ အချိန် ကြာမြင့်မှာ ဖြစ်ပြီး ပုံမှန် ပြုလုပ်သွားဖို့ လိုတယ်လို့ သတိပေး ပြောဆို ခဲ့ပါတယ်။ IS အပေါ် လေကြောင်း တိုက်ဖို့အတွက် ယူကေ ပါလီမန်မှာ ဗုဒ္ဓဟူးနေ့က ဆွေးနွေးငြင်းခုံပြီး မဲခွဲ ဆုံးဖြတ်ရာမှာ ထောက်ခံမဲ ၃၉၇ မဲ၊ ကန့်ကွက်မဲ ၂၂၃ မဲနဲ့ အတည်ပြုခဲ့တာ ဖြစ်ပါတယ်။ အက်ရော့တီရီ လေတပ်စခန်းမှာ ရှိနှင့်ပြီးဖြစ်တဲ့ တိုက်လေယာဉ် ၈ စီး အပြင် နောက်ထပ် ၈ စီး ထပ်ပို့လိုက်တယ် လို့လည်း ယူကေ ကာကွယ်ရေး ဝန်ကြီး မိုက်ကယ် ဖာလန်က ပြောပါတယ်။\"\"\"\n",
        "summary= generate_summary(text, 2)\n",
        "print(\"Summary: \", summary)"
      ],
      "metadata": {
        "id": "HPG9UcRZoH-h",
        "colab": {
          "base_uri": "https://localhost:8080/"
        },
        "outputId": "392dbc5a-a8cf-4090-af98-555cf8f14779"
      },
      "execution_count": null,
      "outputs": [
        {
          "output_type": "stream",
          "name": "stdout",
          "text": [
            "Summary:  IS ပိုင် ရေနံတွင်းတွေကို ဗြိတိသျှ တိုက်လေယာဉ် ၄ စီးက တိုက်ခိုက်ခဲ့ ဗုံးကြဲ တိုက်ခိုက်ဖို့ အတွက် ယူကေ အမတ်တွေ အတည်ပြုပြီး မကြာမီမှာပဲ ဆိုက်ပရပ်စ်မှာ ရှိတဲ့ Akrotiri အက်ရော့တီရီ လေတပ်စခန်းက တိုနေးဒိုး တိုက်လေယာဉ် ၄ စီး တိုက်ခိုက်မှုမှာ ပါဝင် ခဲ့ပါတယ်။ ဆီးရီးယား အရှေ့ပိုင်းက IS တွေ ထိန်းချုပ်ထားတဲ့ ရေနံတွင်းတွေကို တိုက်ခိုက် ထိမှန်ခဲ့တယ်လို့ ကာကွယ်ရေး ဝန်ကြီးက ပြောပါတယ်။\n"
          ]
        }
      ]
    },
    {
      "cell_type": "markdown",
      "source": [
        "\n",
        "## Comparison between Humman Summary and Result\n",
        "Summary: ဗြိတိသျှ တော်ဝင် လေတပ်ရဲ့ တိုနေဒိုး\n",
        "တိုက်လေယာဉ်တွေက ဆီးရီးယားမှာ ရှိတဲ့ IS အစ္စလာမ္မစ် နိုင်ငံအဖွဲ့ အပေါ် လေကြောင်း တိုက်ခိုက်မှုတွေ လုပ်ခဲ့တယ်လို့ ယူကေ ကာကွယ်ရေး ဝန်ကြီးဌာနက အတည်ပြု ပြောဆိုခဲ့ပါတယ်။\n",
        "\n",
        "Output: IS ပိုင် ရေနံတွင်းတွေကို ဗြိတိသျှ တိုက်လေယာဉ် ၄ စီးက တိုက်ခိုက်ခဲ့ ဗုံးကြဲ တိုက်ခိုက်ဖို့ အတွက် ယူကေ အမတ်တွေ အတည်ပြုပြီး မကြာမီမှာပဲ ဆိုက်ပရပ်စ်မှာ ရှိတဲ့ Akrotiri အက်ရော့တီရီ လေတပ်စခန်းက တိုနေးဒိုး တိုက်လေယာဉ် ၄ စီး တိုက်ခိုက်မှုမှာ ပါဝင် ခဲ့ပါတယ်။ ဆီးရီးယား အရှေ့ပိုင်းက IS တွေ ထိန်းချုပ်ထားတဲ့ ရေနံတွင်းတွေကို တိုက်ခိုက် ထိမှန်ခဲ့တယ်လို့ ကာကွယ်ရေး ဝန်ကြီးက ပြောပါတယ်။"
      ],
      "metadata": {
        "id": "9IYNExyiPRru"
      }
    },
    {
      "cell_type": "markdown",
      "source": [
        "End of the prject!!"
      ],
      "metadata": {
        "id": "4izR4t04ZTNz"
      }
    }
  ]
}